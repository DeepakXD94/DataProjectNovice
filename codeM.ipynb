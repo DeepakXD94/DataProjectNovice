{
 "cells": [
  {
   "cell_type": "code",
   "execution_count": 9,
   "id": "758dc03d",
   "metadata": {},
   "outputs": [],
   "source": [
    "\n",
    "import pandas as pd\n",
    "from matplotlib import pyplot as mplot"
   ]
  },
  {
   "cell_type": "markdown",
   "id": "da8f51f9",
   "metadata": {},
   "source": [
    "    *PRD - Production (in Million Tonnes)\n",
    "    *PCA - Per Capita Availability (in Grams per Day)\n"
   ]
  },
  {
   "cell_type": "code",
   "execution_count": 4,
   "id": "f0224a8c",
   "metadata": {},
   "outputs": [],
   "source": [
    "data_sheet = pd.read_csv('databook.csv')"
   ]
  },
  {
   "cell_type": "code",
   "execution_count": 5,
   "id": "6ce8216c",
   "metadata": {
    "scrolled": true
   },
   "outputs": [
    {
     "data": {
      "text/html": [
       "<div>\n",
       "<style scoped>\n",
       "    .dataframe tbody tr th:only-of-type {\n",
       "        vertical-align: middle;\n",
       "    }\n",
       "\n",
       "    .dataframe tbody tr th {\n",
       "        vertical-align: top;\n",
       "    }\n",
       "\n",
       "    .dataframe thead th {\n",
       "        text-align: right;\n",
       "    }\n",
       "</style>\n",
       "<table border=\"1\" class=\"dataframe\">\n",
       "  <thead>\n",
       "    <tr style=\"text-align: right;\">\n",
       "      <th></th>\n",
       "      <th>PRD</th>\n",
       "      <th>PCA</th>\n",
       "    </tr>\n",
       "  </thead>\n",
       "  <tbody>\n",
       "    <tr>\n",
       "      <th>count</th>\n",
       "      <td>29.000000</td>\n",
       "      <td>29.000000</td>\n",
       "    </tr>\n",
       "    <tr>\n",
       "      <th>mean</th>\n",
       "      <td>107.465517</td>\n",
       "      <td>260.000000</td>\n",
       "    </tr>\n",
       "    <tr>\n",
       "      <th>std</th>\n",
       "      <td>40.908576</td>\n",
       "      <td>65.989718</td>\n",
       "    </tr>\n",
       "    <tr>\n",
       "      <th>min</th>\n",
       "      <td>55.600000</td>\n",
       "      <td>178.000000</td>\n",
       "    </tr>\n",
       "    <tr>\n",
       "      <th>25%</th>\n",
       "      <td>75.400000</td>\n",
       "      <td>210.000000</td>\n",
       "    </tr>\n",
       "    <tr>\n",
       "      <th>50%</th>\n",
       "      <td>97.100000</td>\n",
       "      <td>241.000000</td>\n",
       "    </tr>\n",
       "    <tr>\n",
       "      <th>75%</th>\n",
       "      <td>132.400000</td>\n",
       "      <td>299.000000</td>\n",
       "    </tr>\n",
       "    <tr>\n",
       "      <th>max</th>\n",
       "      <td>198.400000</td>\n",
       "      <td>406.000000</td>\n",
       "    </tr>\n",
       "  </tbody>\n",
       "</table>\n",
       "</div>"
      ],
      "text/plain": [
       "              PRD         PCA\n",
       "count   29.000000   29.000000\n",
       "mean   107.465517  260.000000\n",
       "std     40.908576   65.989718\n",
       "min     55.600000  178.000000\n",
       "25%     75.400000  210.000000\n",
       "50%     97.100000  241.000000\n",
       "75%    132.400000  299.000000\n",
       "max    198.400000  406.000000"
      ]
     },
     "execution_count": 5,
     "metadata": {},
     "output_type": "execute_result"
    }
   ],
   "source": [
    "data_sheet.describe()"
   ]
  },
  {
   "cell_type": "code",
   "execution_count": 6,
   "id": "5317a813",
   "metadata": {
    "scrolled": true
   },
   "outputs": [
    {
     "data": {
      "text/plain": [
       "(29, 3)"
      ]
     },
     "execution_count": 6,
     "metadata": {},
     "output_type": "execute_result"
    }
   ],
   "source": [
    "data_sheet.shape"
   ]
  },
  {
   "cell_type": "code",
   "execution_count": 7,
   "id": "cfc18e2a",
   "metadata": {},
   "outputs": [
    {
     "data": {
      "text/html": [
       "<div>\n",
       "<style scoped>\n",
       "    .dataframe tbody tr th:only-of-type {\n",
       "        vertical-align: middle;\n",
       "    }\n",
       "\n",
       "    .dataframe tbody tr th {\n",
       "        vertical-align: top;\n",
       "    }\n",
       "\n",
       "    .dataframe thead th {\n",
       "        text-align: right;\n",
       "    }\n",
       "</style>\n",
       "<table border=\"1\" class=\"dataframe\">\n",
       "  <thead>\n",
       "    <tr style=\"text-align: right;\">\n",
       "      <th></th>\n",
       "      <th>Year</th>\n",
       "      <th>PRD</th>\n",
       "      <th>PCA</th>\n",
       "    </tr>\n",
       "  </thead>\n",
       "  <tbody>\n",
       "    <tr>\n",
       "      <th>0</th>\n",
       "      <td>1991-92</td>\n",
       "      <td>55.6</td>\n",
       "      <td>178</td>\n",
       "    </tr>\n",
       "    <tr>\n",
       "      <th>1</th>\n",
       "      <td>1992-93</td>\n",
       "      <td>58.0</td>\n",
       "      <td>182</td>\n",
       "    </tr>\n",
       "    <tr>\n",
       "      <th>2</th>\n",
       "      <td>1993-94</td>\n",
       "      <td>60.6</td>\n",
       "      <td>186</td>\n",
       "    </tr>\n",
       "    <tr>\n",
       "      <th>3</th>\n",
       "      <td>1994-95</td>\n",
       "      <td>63.8</td>\n",
       "      <td>192</td>\n",
       "    </tr>\n",
       "    <tr>\n",
       "      <th>4</th>\n",
       "      <td>1995-96</td>\n",
       "      <td>66.2</td>\n",
       "      <td>195</td>\n",
       "    </tr>\n",
       "  </tbody>\n",
       "</table>\n",
       "</div>"
      ],
      "text/plain": [
       "      Year   PRD  PCA\n",
       "0  1991-92  55.6  178\n",
       "1  1992-93  58.0  182\n",
       "2  1993-94  60.6  186\n",
       "3  1994-95  63.8  192\n",
       "4  1995-96  66.2  195"
      ]
     },
     "execution_count": 7,
     "metadata": {},
     "output_type": "execute_result"
    }
   ],
   "source": [
    "data_sheet.head()"
   ]
  },
  {
   "cell_type": "code",
   "execution_count": 11,
   "id": "f88dc4a0",
   "metadata": {},
   "outputs": [
    {
     "ename": "NameError",
     "evalue": "name 'Year' is not defined",
     "output_type": "error",
     "traceback": [
      "\u001b[1;31m---------------------------------------------------------------------------\u001b[0m",
      "\u001b[1;31mNameError\u001b[0m                                 Traceback (most recent call last)",
      "Cell \u001b[1;32mIn [11], line 1\u001b[0m\n\u001b[1;32m----> 1\u001b[0m mplot\u001b[38;5;241m.\u001b[39mhist(\u001b[43mYear\u001b[49m, PRD)\n",
      "\u001b[1;31mNameError\u001b[0m: name 'Year' is not defined"
     ]
    }
   ],
   "source": [
    "mplot.hist(year, PRD)"
   ]
  }
 ],
 "metadata": {
  "kernelspec": {
   "display_name": "Python 3.10.4 ('DataShark')",
   "language": "python",
   "name": "python3"
  },
  "language_info": {
   "codemirror_mode": {
    "name": "ipython",
    "version": 3
   },
   "file_extension": ".py",
   "mimetype": "text/x-python",
   "name": "python",
   "nbconvert_exporter": "python",
   "pygments_lexer": "ipython3",
   "version": "3.10.4"
  },
  "vscode": {
   "interpreter": {
    "hash": "46c34d3ef96f629ecb9b1e094e467cd77d328583a5bb05ab4bdcc80901c8648b"
   }
  }
 },
 "nbformat": 4,
 "nbformat_minor": 5
}
